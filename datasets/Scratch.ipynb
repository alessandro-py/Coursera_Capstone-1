{
 "cells": [
  {
   "cell_type": "code",
   "execution_count": 59,
   "metadata": {},
   "outputs": [],
   "source": [
    "import pandas as pd\n",
    "import numpy as np\n",
    "import matplotlib.pyplot as plt\n",
    "import seaborn as sns\n",
    "from bs4 import BeautifulSoup\n",
    "%config IPCompleter.greedy=True\n",
    "%config IPCompleter.use_jedi=False\n"
   ]
  },
  {
   "cell_type": "code",
   "execution_count": 81,
   "metadata": {},
   "outputs": [],
   "source": [
    "downtown_venues = pd.read_csv('downtown_venues.csv')"
   ]
  },
  {
   "cell_type": "code",
   "execution_count": 82,
   "metadata": {},
   "outputs": [
    {
     "data": {
      "text/html": [
       "<div>\n",
       "<style scoped>\n",
       "    .dataframe tbody tr th:only-of-type {\n",
       "        vertical-align: middle;\n",
       "    }\n",
       "\n",
       "    .dataframe tbody tr th {\n",
       "        vertical-align: top;\n",
       "    }\n",
       "\n",
       "    .dataframe thead th {\n",
       "        text-align: right;\n",
       "    }\n",
       "</style>\n",
       "<table border=\"1\" class=\"dataframe\">\n",
       "  <thead>\n",
       "    <tr style=\"text-align: right;\">\n",
       "      <th></th>\n",
       "      <th>Neighborhood</th>\n",
       "      <th>Neighborhood Latitude</th>\n",
       "      <th>Neighborhood Longitude</th>\n",
       "      <th>Venue</th>\n",
       "      <th>Venue Latitude</th>\n",
       "      <th>Venue Longitude</th>\n",
       "      <th>Venue Category</th>\n",
       "    </tr>\n",
       "  </thead>\n",
       "  <tbody>\n",
       "    <tr>\n",
       "      <th>0</th>\n",
       "      <td>Regent Park</td>\n",
       "      <td>43.65512</td>\n",
       "      <td>-79.36264</td>\n",
       "      <td>Roselle Desserts</td>\n",
       "      <td>43.653447</td>\n",
       "      <td>-79.362017</td>\n",
       "      <td>Bakery</td>\n",
       "    </tr>\n",
       "    <tr>\n",
       "      <th>1</th>\n",
       "      <td>Regent Park</td>\n",
       "      <td>43.65512</td>\n",
       "      <td>-79.36264</td>\n",
       "      <td>Tandem Coffee</td>\n",
       "      <td>43.653559</td>\n",
       "      <td>-79.361809</td>\n",
       "      <td>Coffee Shop</td>\n",
       "    </tr>\n",
       "    <tr>\n",
       "      <th>2</th>\n",
       "      <td>Regent Park</td>\n",
       "      <td>43.65512</td>\n",
       "      <td>-79.36264</td>\n",
       "      <td>Figs Breakfast &amp; Lunch</td>\n",
       "      <td>43.655675</td>\n",
       "      <td>-79.364503</td>\n",
       "      <td>Breakfast Spot</td>\n",
       "    </tr>\n",
       "    <tr>\n",
       "      <th>3</th>\n",
       "      <td>Regent Park</td>\n",
       "      <td>43.65512</td>\n",
       "      <td>-79.36264</td>\n",
       "      <td>The Yoga Lounge</td>\n",
       "      <td>43.655515</td>\n",
       "      <td>-79.364955</td>\n",
       "      <td>Yoga Studio</td>\n",
       "    </tr>\n",
       "    <tr>\n",
       "      <th>4</th>\n",
       "      <td>Regent Park</td>\n",
       "      <td>43.65512</td>\n",
       "      <td>-79.36264</td>\n",
       "      <td>Body Blitz Spa East</td>\n",
       "      <td>43.654735</td>\n",
       "      <td>-79.359874</td>\n",
       "      <td>Spa</td>\n",
       "    </tr>\n",
       "  </tbody>\n",
       "</table>\n",
       "</div>"
      ],
      "text/plain": [
       "  Neighborhood  Neighborhood Latitude  Neighborhood Longitude  \\\n",
       "0  Regent Park               43.65512               -79.36264   \n",
       "1  Regent Park               43.65512               -79.36264   \n",
       "2  Regent Park               43.65512               -79.36264   \n",
       "3  Regent Park               43.65512               -79.36264   \n",
       "4  Regent Park               43.65512               -79.36264   \n",
       "\n",
       "                    Venue  Venue Latitude  Venue Longitude  Venue Category  \n",
       "0        Roselle Desserts       43.653447       -79.362017          Bakery  \n",
       "1           Tandem Coffee       43.653559       -79.361809     Coffee Shop  \n",
       "2  Figs Breakfast & Lunch       43.655675       -79.364503  Breakfast Spot  \n",
       "3         The Yoga Lounge       43.655515       -79.364955     Yoga Studio  \n",
       "4     Body Blitz Spa East       43.654735       -79.359874             Spa  "
      ]
     },
     "execution_count": 82,
     "metadata": {},
     "output_type": "execute_result"
    }
   ],
   "source": [
    "downtown_venues.head()"
   ]
  },
  {
   "cell_type": "code",
   "execution_count": 83,
   "metadata": {},
   "outputs": [
    {
     "data": {
      "text/plain": [
       "array(['Regent Park', \"Queen's Park\", 'Garden District', 'St. James Town',\n",
       "       'Berczy Park', 'Central Bay Street', 'Christie', 'Richmond',\n",
       "       'Harbourfront East', 'Toronto Dominion Centre', 'Commerce Court',\n",
       "       'University of Toronto', 'Kensington Market', 'CN Tower',\n",
       "       'Rosedale', 'Stn A PO Boxes', 'Cabbagetown',\n",
       "       'First Canadian Place', 'Church and Wellesley'], dtype=object)"
      ]
     },
     "execution_count": 83,
     "metadata": {},
     "output_type": "execute_result"
    }
   ],
   "source": [
    "downtown_venues['Neighborhood'].unique()"
   ]
  },
  {
   "cell_type": "code",
   "execution_count": 84,
   "metadata": {},
   "outputs": [
    {
     "data": {
      "text/plain": [
       "'Regent Park'"
      ]
     },
     "execution_count": 84,
     "metadata": {},
     "output_type": "execute_result"
    }
   ],
   "source": [
    "'Regent Park'.split(',')[0]"
   ]
  },
  {
   "cell_type": "code",
   "execution_count": 85,
   "metadata": {},
   "outputs": [],
   "source": [
    "downtown_venues['Neighborhood'].replace('St. James Town, Cabbagetown', 'Cabbagetown', inplace=True)"
   ]
  },
  {
   "cell_type": "code",
   "execution_count": 86,
   "metadata": {},
   "outputs": [],
   "source": [
    "downtown_venues['Neighborhood'] = downtown_venues['Neighborhood'].apply(lambda x: x.split(',')[0])"
   ]
  },
  {
   "cell_type": "code",
   "execution_count": 87,
   "metadata": {},
   "outputs": [
    {
     "data": {
      "text/html": [
       "<div>\n",
       "<style scoped>\n",
       "    .dataframe tbody tr th:only-of-type {\n",
       "        vertical-align: middle;\n",
       "    }\n",
       "\n",
       "    .dataframe tbody tr th {\n",
       "        vertical-align: top;\n",
       "    }\n",
       "\n",
       "    .dataframe thead th {\n",
       "        text-align: right;\n",
       "    }\n",
       "</style>\n",
       "<table border=\"1\" class=\"dataframe\">\n",
       "  <thead>\n",
       "    <tr style=\"text-align: right;\">\n",
       "      <th></th>\n",
       "      <th>Neighborhood</th>\n",
       "      <th>Neighborhood Latitude</th>\n",
       "      <th>Neighborhood Longitude</th>\n",
       "      <th>Venue</th>\n",
       "      <th>Venue Latitude</th>\n",
       "      <th>Venue Longitude</th>\n",
       "      <th>Venue Category</th>\n",
       "    </tr>\n",
       "  </thead>\n",
       "  <tbody>\n",
       "    <tr>\n",
       "      <th>0</th>\n",
       "      <td>Regent Park</td>\n",
       "      <td>43.65512</td>\n",
       "      <td>-79.36264</td>\n",
       "      <td>Roselle Desserts</td>\n",
       "      <td>43.653447</td>\n",
       "      <td>-79.362017</td>\n",
       "      <td>Bakery</td>\n",
       "    </tr>\n",
       "    <tr>\n",
       "      <th>1</th>\n",
       "      <td>Regent Park</td>\n",
       "      <td>43.65512</td>\n",
       "      <td>-79.36264</td>\n",
       "      <td>Tandem Coffee</td>\n",
       "      <td>43.653559</td>\n",
       "      <td>-79.361809</td>\n",
       "      <td>Coffee Shop</td>\n",
       "    </tr>\n",
       "    <tr>\n",
       "      <th>2</th>\n",
       "      <td>Regent Park</td>\n",
       "      <td>43.65512</td>\n",
       "      <td>-79.36264</td>\n",
       "      <td>Figs Breakfast &amp; Lunch</td>\n",
       "      <td>43.655675</td>\n",
       "      <td>-79.364503</td>\n",
       "      <td>Breakfast Spot</td>\n",
       "    </tr>\n",
       "    <tr>\n",
       "      <th>3</th>\n",
       "      <td>Regent Park</td>\n",
       "      <td>43.65512</td>\n",
       "      <td>-79.36264</td>\n",
       "      <td>The Yoga Lounge</td>\n",
       "      <td>43.655515</td>\n",
       "      <td>-79.364955</td>\n",
       "      <td>Yoga Studio</td>\n",
       "    </tr>\n",
       "    <tr>\n",
       "      <th>4</th>\n",
       "      <td>Regent Park</td>\n",
       "      <td>43.65512</td>\n",
       "      <td>-79.36264</td>\n",
       "      <td>Body Blitz Spa East</td>\n",
       "      <td>43.654735</td>\n",
       "      <td>-79.359874</td>\n",
       "      <td>Spa</td>\n",
       "    </tr>\n",
       "  </tbody>\n",
       "</table>\n",
       "</div>"
      ],
      "text/plain": [
       "  Neighborhood  Neighborhood Latitude  Neighborhood Longitude  \\\n",
       "0  Regent Park               43.65512               -79.36264   \n",
       "1  Regent Park               43.65512               -79.36264   \n",
       "2  Regent Park               43.65512               -79.36264   \n",
       "3  Regent Park               43.65512               -79.36264   \n",
       "4  Regent Park               43.65512               -79.36264   \n",
       "\n",
       "                    Venue  Venue Latitude  Venue Longitude  Venue Category  \n",
       "0        Roselle Desserts       43.653447       -79.362017          Bakery  \n",
       "1           Tandem Coffee       43.653559       -79.361809     Coffee Shop  \n",
       "2  Figs Breakfast & Lunch       43.655675       -79.364503  Breakfast Spot  \n",
       "3         The Yoga Lounge       43.655515       -79.364955     Yoga Studio  \n",
       "4     Body Blitz Spa East       43.654735       -79.359874             Spa  "
      ]
     },
     "execution_count": 87,
     "metadata": {},
     "output_type": "execute_result"
    }
   ],
   "source": [
    "downtown_venues.head()"
   ]
  },
  {
   "cell_type": "code",
   "execution_count": 88,
   "metadata": {},
   "outputs": [],
   "source": [
    "neigh = downtown_venues[['Neighborhood','Venue']].groupby(by='Neighborhood').count().sort_values(by='Venue',ascending=False).reset_index()"
   ]
  },
  {
   "cell_type": "code",
   "execution_count": 89,
   "metadata": {},
   "outputs": [
    {
     "data": {
      "text/plain": [
       "<seaborn.axisgrid.FacetGrid at 0x142b52055c8>"
      ]
     },
     "execution_count": 89,
     "metadata": {},
     "output_type": "execute_result"
    },
    {
     "data": {
      "image/png": "[encoded data removed]",
      "text/plain": [
       "<Figure size 540x360 with 1 Axes>"
      ]
     },
     "metadata": {
      "needs_background": "light"
     },
     "output_type": "display_data"
    }
   ],
   "source": [
    "g = sns.catplot(data=neigh, x='Neighborhood', y='Venue', kind='bar',aspect=1.5)\n",
    "g.set_xticklabels(rotation=80)"
   ]
  },
  {
   "cell_type": "code",
   "execution_count": 90,
   "metadata": {},
   "outputs": [
    {
     "data": {
      "text/html": [
       "<div>\n",
       "<style scoped>\n",
       "    .dataframe tbody tr th:only-of-type {\n",
       "        vertical-align: middle;\n",
       "    }\n",
       "\n",
       "    .dataframe tbody tr th {\n",
       "        vertical-align: top;\n",
       "    }\n",
       "\n",
       "    .dataframe thead th {\n",
       "        text-align: right;\n",
       "    }\n",
       "</style>\n",
       "<table border=\"1\" class=\"dataframe\">\n",
       "  <thead>\n",
       "    <tr style=\"text-align: right;\">\n",
       "      <th></th>\n",
       "      <th>Neighborhood</th>\n",
       "    </tr>\n",
       "    <tr>\n",
       "      <th>Venue Category</th>\n",
       "      <th></th>\n",
       "    </tr>\n",
       "  </thead>\n",
       "  <tbody>\n",
       "    <tr>\n",
       "      <th>Afghan Restaurant</th>\n",
       "      <td>1</td>\n",
       "    </tr>\n",
       "    <tr>\n",
       "      <th>American Restaurant</th>\n",
       "      <td>17</td>\n",
       "    </tr>\n",
       "    <tr>\n",
       "      <th>Antique Shop</th>\n",
       "      <td>1</td>\n",
       "    </tr>\n",
       "    <tr>\n",
       "      <th>Aquarium</th>\n",
       "      <td>2</td>\n",
       "    </tr>\n",
       "    <tr>\n",
       "      <th>Art Gallery</th>\n",
       "      <td>10</td>\n",
       "    </tr>\n",
       "    <tr>\n",
       "      <th>...</th>\n",
       "      <td>...</td>\n",
       "    </tr>\n",
       "    <tr>\n",
       "      <th>Wine Bar</th>\n",
       "      <td>9</td>\n",
       "    </tr>\n",
       "    <tr>\n",
       "      <th>Wine Shop</th>\n",
       "      <td>1</td>\n",
       "    </tr>\n",
       "    <tr>\n",
       "      <th>Wings Joint</th>\n",
       "      <td>1</td>\n",
       "    </tr>\n",
       "    <tr>\n",
       "      <th>Women's Store</th>\n",
       "      <td>1</td>\n",
       "    </tr>\n",
       "    <tr>\n",
       "      <th>Yoga Studio</th>\n",
       "      <td>6</td>\n",
       "    </tr>\n",
       "  </tbody>\n",
       "</table>\n",
       "<p>195 rows × 1 columns</p>\n",
       "</div>"
      ],
      "text/plain": [
       "                     Neighborhood\n",
       "Venue Category                   \n",
       "Afghan Restaurant               1\n",
       "American Restaurant            17\n",
       "Antique Shop                    1\n",
       "Aquarium                        2\n",
       "Art Gallery                    10\n",
       "...                           ...\n",
       "Wine Bar                        9\n",
       "Wine Shop                       1\n",
       "Wings Joint                     1\n",
       "Women's Store                   1\n",
       "Yoga Studio                     6\n",
       "\n",
       "[195 rows x 1 columns]"
      ]
     },
     "execution_count": 90,
     "metadata": {},
     "output_type": "execute_result"
    }
   ],
   "source": [
    "downtown_venues[['Neighborhood','Venue Category']].groupby(by='Venue Category').count()"
   ]
  }
 ],
 "metadata": {
  "kernelspec": {
   "display_name": "Python 3",
   "language": "python",
   "name": "python3"
  },
  "language_info": {
   "codemirror_mode": {
    "name": "ipython",
    "version": 3
   },
   "file_extension": ".py",
   "mimetype": "text/x-python",
   "name": "python",
   "nbconvert_exporter": "python",
   "pygments_lexer": "ipython3",
   "version": "3.7.9"
  }
 },
 "nbformat": 4,
 "nbformat_minor": 4
}
