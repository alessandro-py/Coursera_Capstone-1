{
 "cells": [
  {
   "cell_type": "markdown",
   "metadata": {},
   "source": [
    "# The Battle of the Neighborhoods\n",
    "<hr>"
   ]
  },
  {
   "cell_type": "markdown",
   "metadata": {},
   "source": [
    "Welcome to the Coursera Appllied Data Science Capstone Project called __The Battle of the Neighborhoods__. We will mainly use this notebook throughout the project. "
   ]
  },
  {
   "cell_type": "markdown",
   "metadata": {},
   "source": [
    "## Case Study\n",
    "\n",
    "Assume you currently live on the West side of the City of Toronto in Canada. You really love so much about its neighborhood simply because of all the great amenities and other types of venues that exist in the neighborhood.\n",
    "\n",
    "Now you receive a job offer from a great company on the other side of the city with great career prospects. However, given the far distance from your current place, you unfortunately must move if you decide to accept the offer. \n",
    "\n",
    "__Wouldn't it be great if you're able to determine neighborhoods on the other side of the city that are exactly the same as your current neighborhood, and if not, perhaps similar neighborhoods that are at least closer to your new job.__\n",
    "\n",
    "So in this capstone project, you will need to be creative and come up with your own idea or problem to solve using location data. For example:\n",
    "- you can choose to compare different neighborhoods in terms of a service. \n",
    "- Search for potential explanation of why a neighborhood is popular. \n",
    "- The cause of complaints in another neighborhood, or \n",
    "- anything else related to neighborhoods. \n",
    "\n",
    "Hence the name of the capstone project will be __the Battle of the Neighborhoods__.\n",
    "\n",
    "___City Segmentation and Clustering___\n",
    "\n",
    "So what you will learn to do is, given a city like the City of Toronto, you will __segment it into different neighborhoods using the geographical coordinates__ of the center of each neighborhood. And then, using a combination of location data and machine learning, you will group the neighborhoods into clusters like this.\n",
    "<img src='city_segmentation.png'>"
   ]
  },
  {
   "cell_type": "markdown",
   "metadata": {},
   "source": [
    "## Location Data Providers\n",
    "\n",
    "__Location data__ is data describing places and venues, such as their geographical location, their category, working hours, full address, and so on, such that for a given location given in the form of its geographical coordinates (or latitude and longitude values) one is able __to determine what types of venues exist__ within a defined radius from that location.\n",
    "\n",
    "For example, given a location you will be able to tell if restaurants, schools, parks, gyms, etc exist nearby. Also, how many of each category exist and how each surrounding venue is reviewed by other people. So this is what's referred to as __location data__. \n",
    "\n",
    "Among the many location data providers are:\n",
    "- Foursquare, \n",
    "- Google Places, and \n",
    "- Yelp. \n",
    "\n",
    "Location data providers will differ in a number of features. \n",
    "- __Rate Limits__: how many API calls you can make in a defined time frame such as calls per hour or calls per day.\n",
    "\n",
    "\n",
    "- __Cost__: how much it would cost you to use their API to fetch location data.\n",
    "\n",
    "\n",
    "- __Coverage__: geospatial coverage. In other words, how many countries or geographical locations the location data set covers.\n",
    "\n",
    "\n",
    "- __Accuracy__: how accurate is the location data provided by each provider, Especially those that crowd source their data. \n",
    "\n",
    "\n",
    "- __Update Frequency__: how frequently the location data gets updated (continuously, daily, or weekly, etc)\n",
    "\n",
    "So, these are some of the features to keep in mind if in the future you find yourself requiring to use location data to solve a problem.\n",
    "\n",
    "\n",
    "\n",
    "___Foursquare___\n",
    "\n",
    "But as far as this project is concerned, we will use the __Foursquare location dataset__. The author has been using their API for over a year now, and he found their dataset to be the most comprehensive so far. Also creating a developer account to use their API is quite straightforward and the easiest compared to other providers. Therefore, let's start learning how to use the Foursquare API to leverage location data."
   ]
  },
  {
   "cell_type": "markdown",
   "metadata": {},
   "source": [
    "Let's start by importing some common libraries."
   ]
  },
  {
   "cell_type": "code",
   "execution_count": 1,
   "metadata": {},
   "outputs": [],
   "source": [
    "import pandas as pd\n",
    "import numpy as np"
   ]
  },
  {
   "cell_type": "markdown",
   "metadata": {},
   "source": [
    "Let's show some spirit by printing the following statement:"
   ]
  },
  {
   "cell_type": "code",
   "execution_count": 2,
   "metadata": {},
   "outputs": [
    {
     "name": "stdout",
     "output_type": "stream",
     "text": [
      "Hello Capstone Project Course!\n"
     ]
    }
   ],
   "source": [
    "print('Hello Capstone Project Course!')"
   ]
  },
  {
   "cell_type": "code",
   "execution_count": 4,
   "metadata": {},
   "outputs": [],
   "source": [
    "%config IPCompleter.greedy=True\n",
    "%config IPCompleter.use_jedi=False"
   ]
  },
  {
   "cell_type": "code",
   "execution_count": null,
   "metadata": {},
   "outputs": [],
   "source": []
  },
  {
   "cell_type": "code",
   "execution_count": null,
   "metadata": {},
   "outputs": [],
   "source": []
  },
  {
   "cell_type": "code",
   "execution_count": null,
   "metadata": {},
   "outputs": [],
   "source": []
  },
  {
   "cell_type": "code",
   "execution_count": null,
   "metadata": {},
   "outputs": [],
   "source": []
  }
 ],
 "metadata": {
  "kernelspec": {
   "display_name": "Python 3",
   "language": "python",
   "name": "python3"
  },
  "language_info": {
   "codemirror_mode": {
    "name": "ipython",
    "version": 3
   },
   "file_extension": ".py",
   "mimetype": "text/x-python",
   "name": "python",
   "nbconvert_exporter": "python",
   "pygments_lexer": "ipython3",
   "version": "3.7.9"
  }
 },
 "nbformat": 4,
 "nbformat_minor": 4
}
